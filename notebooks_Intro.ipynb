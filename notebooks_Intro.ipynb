{
  "metadata": {
    "kernelspec": {
      "display_name": "Pyolite",
      "language": "python",
      "name": "python"
    },
    "language_info": {
      "codemirror_mode": {
        "name": "python",
        "version": 3
      },
      "file_extension": ".py",
      "mimetype": "text/x-python",
      "name": "python",
      "nbconvert_exporter": "python",
      "pygments_lexer": "ipython3",
      "version": "3.8"
    }
  },
  "nbformat_minor": 5,
  "nbformat": 4,
  "cells": [
    {
      "cell_type": "code",
      "source": "print('hello')",
      "metadata": {
        "trusted": true
      },
      "execution_count": 2,
      "outputs": [
        {
          "name": "stdout",
          "text": "hello\n",
          "output_type": "stream"
        }
      ],
      "id": "4db12c09-85ca-45d4-9279-7b1aebdde24a"
    },
    {
      "cell_type": "code",
      "source": "print(5)",
      "metadata": {
        "trusted": true
      },
      "execution_count": 3,
      "outputs": [
        {
          "name": "stdout",
          "text": "5\n",
          "output_type": "stream"
        }
      ],
      "id": "3db26bb3-4adc-4c37-a6a0-095a25cfa92b"
    },
    {
      "cell_type": "code",
      "source": "x=6\ny=5\nz=x+y\nprint(z)",
      "metadata": {
        "trusted": true
      },
      "execution_count": 4,
      "outputs": [
        {
          "name": "stdout",
          "text": "11\n",
          "output_type": "stream"
        }
      ],
      "id": "bfbb8ccb-9ccf-4751-9460-273a6311de2a"
    },
    {
      "cell_type": "code",
      "source": "",
      "metadata": {},
      "execution_count": null,
      "outputs": [],
      "id": "674b375f-8594-4c6f-bc7e-6535268ae1da"
    }
  ]
}