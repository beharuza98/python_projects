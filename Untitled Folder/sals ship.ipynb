{
 "cells": [
  {
   "cell_type": "markdown",
   "metadata": {},
   "source": [
    "Python program that asks the user for the weight of their package and then tells them which method of shipping is cheapest and how much it will cost to ship their package using Sal’s Shippers."
   ]
  },
  {
   "cell_type": "code",
   "execution_count": 1,
   "metadata": {},
   "outputs": [
    {
     "name": "stdout",
     "output_type": "stream",
     "text": [
      "Ground shipping $  34.4\n",
      "Ground Shipping Premimium $ 125.0\n",
      "drone shipping $ 43.199999999999996\n"
     ]
    }
   ],
   "source": [
    "weight=4.8\n",
    "#ground shipping\n",
    "if weight<=2:\n",
    "  cost_ground=weight*1.5 + 20\n",
    "elif weight <=6:\n",
    "  cost_ground=weight*3+ 20\n",
    "elif weight <=10:\n",
    "  cost_ground=weight*4 + 20\n",
    "else:\n",
    "  cost_ground=weight*4.75 +20\n",
    "print(\"Ground shipping $ \", cost_ground)\n",
    "\n",
    "#ground premium\n",
    "cost_ground_premium = 125.\n",
    "print(\"Ground Shipping Premimium $\", cost_ground_premium)\n",
    "#drone shipping\n",
    "if weight<=2:\n",
    "  cost_ground=weight*4.5\n",
    "elif weight<=6:\n",
    "  cost_ground=weight*9\n",
    "elif weight<=10:\n",
    "  cost_ground=weight*12\n",
    "else:\n",
    "  cost_ground=weight*14.25\n",
    "print(\"drone shipping $\",cost_ground)\n"
   ]
  },
  {
   "cell_type": "code",
   "execution_count": null,
   "metadata": {},
   "outputs": [],
   "source": []
  }
 ],
 "metadata": {
  "kernelspec": {
   "display_name": "Python 3",
   "language": "python",
   "name": "python3"
  },
  "language_info": {
   "codemirror_mode": {
    "name": "ipython",
    "version": 3
   },
   "file_extension": ".py",
   "mimetype": "text/x-python",
   "name": "python",
   "nbconvert_exporter": "python",
   "pygments_lexer": "ipython3",
   "version": "3.7.6"
  }
 },
 "nbformat": 4,
 "nbformat_minor": 4
}
