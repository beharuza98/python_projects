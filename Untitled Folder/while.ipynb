{
 "cells": [
  {
   "cell_type": "code",
   "execution_count": 1,
   "metadata": {},
   "outputs": [
    {
     "name": "stdout",
     "output_type": "stream",
     "text": [
      "I am learning about variables\n",
      "I am learning about control flow\n",
      "I am learning about loops\n",
      "I am learning about modules\n",
      "I am learning about classes\n"
     ]
    }
   ],
   "source": [
    "python_topics = [\"variables\", \"control flow\", \"loops\", \"modules\", \"classes\"]\n",
    "\n",
    "length = len(python_topics)\n",
    "index = 0\n",
    "\n",
    "while index < length:\n",
    "  print(\"I am learning about \" + python_topics[index])\n",
    "  index += 1"
   ]
  },
  {
   "cell_type": "code",
   "execution_count": null,
   "metadata": {},
   "outputs": [],
   "source": []
  }
 ],
 "metadata": {
  "kernelspec": {
   "display_name": "Python 3",
   "language": "python",
   "name": "python3"
  },
  "language_info": {
   "codemirror_mode": {
    "name": "ipython",
    "version": 3
   },
   "file_extension": ".py",
   "mimetype": "text/x-python",
   "name": "python",
   "nbconvert_exporter": "python",
   "pygments_lexer": "ipython3",
   "version": "3.7.6"
  }
 },
 "nbformat": 4,
 "nbformat_minor": 4
}
