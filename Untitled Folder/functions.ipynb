{
 "cells": [
  {
   "cell_type": "markdown",
   "metadata": {},
   "source": [
    "Our travel application users want to calculate the total expenses they may have to incur on a trip."
   ]
  },
  {
   "cell_type": "code",
   "execution_count": 3,
   "metadata": {},
   "outputs": [
    {
     "name": "stdout",
     "output_type": "stream",
     "text": [
      "The total expense: 1190\n"
     ]
    }
   ],
   "source": [
    "def calculate_expenses(plane_ticket_price,\n",
    "car_rental_rate,hotel_rate,trip_time):\n",
    "  car_rental_total = car_rental_rate*trip_time\n",
    "  hotel_total=hotel_rate*trip_time - 10\n",
    "  print(\"The total expense: \"+ str(car_rental_total+ hotel_total+ plane_ticket_price))\n",
    "calculate_expenses(200,100,100,5)\n"
   ]
  },
  {
   "cell_type": "markdown",
   "metadata": {},
   "source": [
    "Help travellers track their starting budget and let them know how much they have left after an expense."
   ]
  },
  {
   "cell_type": "code",
   "execution_count": 4,
   "metadata": {},
   "outputs": [
    {
     "name": "stdout",
     "output_type": "stream",
     "text": [
      "Your remaining budget is: $3500.75\n",
      "Your remaining budget is: $3491.75\n"
     ]
    }
   ],
   "source": [
    "current_budget = 3500.75\n",
    "\n",
    "def print_remaining_budget(budget):\n",
    "  print(\"Your remaining budget is: $\" + str(budget))\n",
    "\n",
    "print_remaining_budget(current_budget)\n",
    "\n",
    "def deduct_expense(budget,expense):\n",
    "  return budget-expense\n",
    "shirt_expense =9\n",
    "new_budget_after_shirt=deduct_expense(current_budget ,shirt_expense ) \n",
    "print_remaining_budget(new_budget_after_shirt )"
   ]
  },
  {
   "cell_type": "markdown",
   "metadata": {},
   "source": [
    "Trip planner"
   ]
  },
  {
   "cell_type": "code",
   "execution_count": 5,
   "metadata": {},
   "outputs": [
    {
     "name": "stdout",
     "output_type": "stream",
     "text": [
      "Welcome to tripplanner v1.0 Aisha\n",
      "Your trip starts off in india\n",
      "And you are traveling to italy\n",
      "You will be traveling by Car\n",
      "It will take approximately 2 hours\n"
     ]
    }
   ],
   "source": [
    "def trip_planner_welcome(name):\n",
    "  print(\"Welcome to tripplanner v1.0 \"+name)\n",
    "trip_planner_welcome(\"Aisha\")\n",
    "\n",
    "def estimated_time_rounded(estimated_time):\n",
    "  rounded_time=round(estimated_time)\n",
    "  return rounded_time\n",
    "estimate=estimated_time_rounded(2.45)\n",
    "\n",
    "def destination_setup(origin,destination,estimated_time,mode_of_transport=\"Car\"):\n",
    "  print(\"Your trip starts off in \"+ origin)\n",
    "  print(\"And you are traveling to \"+ destination)\n",
    "  print(\"You will be traveling by \"+mode_of_transport)\n",
    "  print(\"It will take approximately \"+str(estimate)+ \" hours\")\n",
    "destination_setup(\"india\",\"italy\",estimate)"
   ]
  },
  {
   "cell_type": "markdown",
   "metadata": {},
   "source": [
    "## challenges"
   ]
  },
  {
   "cell_type": "markdown",
   "metadata": {},
   "source": [
    "calculate the length of a list and then append the value to the end of the list"
   ]
  },
  {
   "cell_type": "code",
   "execution_count": 1,
   "metadata": {},
   "outputs": [
    {
     "name": "stdout",
     "output_type": "stream",
     "text": [
      "[23, 42, 108, 3]\n"
     ]
    }
   ],
   "source": [
    "def append_size(lst):\n",
    "  lst.append(len(lst))\n",
    "  return lst\n",
    "\n",
    "\n",
    "print(append_size([23, 42, 108]))"
   ]
  },
  {
   "cell_type": "markdown",
   "metadata": {},
   "source": [
    "function that calculates the sum of the last two elements of a list and appends it to the end. "
   ]
  },
  {
   "cell_type": "code",
   "execution_count": 2,
   "metadata": {},
   "outputs": [
    {
     "name": "stdout",
     "output_type": "stream",
     "text": [
      "[1, 1, 2, 3, 5, 8]\n"
     ]
    }
   ],
   "source": [
    "def append_sum(lst):\n",
    "  lst.append(lst[-1] + lst[-2])\n",
    "  lst.append(lst[-1] + lst[-2])\n",
    "  lst.append(lst[-1] + lst[-2])\n",
    "  return lst\n",
    "print(append_sum([1, 1, 2]))"
   ]
  },
  {
   "cell_type": "markdown",
   "metadata": {},
   "source": [
    "two conveyor belts that contain items represented by a numerical ID. If one conveyor belt contains more items than the other, then we need to return the ID of the last item on that belt. In the case where they have the same number of items, return the last item from the first conveyor belt. In our code, we can represent the belts using lists."
   ]
  },
  {
   "cell_type": "code",
   "execution_count": 4,
   "metadata": {},
   "outputs": [
    {
     "name": "stdout",
     "output_type": "stream",
     "text": [
      "5\n"
     ]
    }
   ],
   "source": [
    "def larger_list(lst1, lst2):\n",
    "  if len(lst1) >= len(lst2):\n",
    "    return lst1[-1]\n",
    "  else:\n",
    "    return lst2[-1]\n",
    "print(larger_list([4, 10, 2, 5], [-10, 2, 5, 10]))"
   ]
  },
  {
   "cell_type": "markdown",
   "metadata": {},
   "source": [
    "Our factory produces a variety of different flavored snacks and we want to check the number of instances of a certain type. We have a conveyor belt full of different types of snacks represented by different numbers. Our function will accept a list of numbers (representing the type of snack), a number for the second parameter (the type of snack we are looking for), and another number as the third parameter (the maximum number of that type of snack on the conveyor belt). The function will return True if the snack we are searching for appears more times than we provided as our third parameter."
   ]
  },
  {
   "cell_type": "code",
   "execution_count": 5,
   "metadata": {},
   "outputs": [
    {
     "name": "stdout",
     "output_type": "stream",
     "text": [
      "True\n"
     ]
    }
   ],
   "source": [
    "def more_than_n(lst, item, n):\n",
    "  if lst.count(item) > n:\n",
    "    return True\n",
    "  else:\n",
    "    return False\n",
    "print(more_than_n([2, 4, 6, 2, 3, 2, 1, 2], 2, 3))"
   ]
  },
  {
   "cell_type": "markdown",
   "metadata": {},
   "source": [
    "create a function that combines two different lists together and then sorts them."
   ]
  },
  {
   "cell_type": "code",
   "execution_count": 6,
   "metadata": {},
   "outputs": [
    {
     "name": "stdout",
     "output_type": "stream",
     "text": [
      "[-10, 2, 2, 4, 5, 5, 10, 10]\n"
     ]
    }
   ],
   "source": [
    "def combine_sort(lst1, lst2):\n",
    "  unsorted = lst1 + lst2\n",
    "  sortedList = sorted(unsorted)\n",
    "  return sortedList\n",
    "print(combine_sort([4, 10, 2, 5], [-10, 2, 5, 10]))"
   ]
  },
  {
   "cell_type": "markdown",
   "metadata": {},
   "source": [
    " function that creates a list of numbers up to 100 in increments of 3 starting from a number that is passed to the function as an input parameter."
   ]
  },
  {
   "cell_type": "code",
   "execution_count": 8,
   "metadata": {},
   "outputs": [
    {
     "name": "stdout",
     "output_type": "stream",
     "text": [
      "[91, 94, 97, 100]\n"
     ]
    }
   ],
   "source": [
    "def every_three_nums(start):\n",
    "  return list(range(start, 101, 3))\n",
    "print(every_three_nums(91))"
   ]
  },
  {
   "cell_type": "markdown",
   "metadata": {},
   "source": [
    "remove all elements from a list with an index within a certain range. The function will accept a list, a starting index, and an ending index. All elements with an index between the starting and ending index should be removed from the list."
   ]
  },
  {
   "cell_type": "code",
   "execution_count": 16,
   "metadata": {},
   "outputs": [
    {
     "name": "stdout",
     "output_type": "stream",
     "text": [
      "[4, 23, 42]\n"
     ]
    }
   ],
   "source": [
    "def remove_middle(lst, start, end):\n",
    "  return lst[:start] + lst[-end+1:]\n",
    "print(remove_middle([4, 8, 15, 16, 23, 42], 1, 3))"
   ]
  },
  {
   "cell_type": "markdown",
   "metadata": {},
   "source": [
    "We have a conveyor belt of items where each item is represented by a different number. We want to know, out of two items, which one shows up more on our belt."
   ]
  },
  {
   "cell_type": "code",
   "execution_count": 17,
   "metadata": {},
   "outputs": [
    {
     "name": "stdout",
     "output_type": "stream",
     "text": [
      "3\n"
     ]
    }
   ],
   "source": [
    "def more_frequent_item(lst, item1, item2):\n",
    "  if lst.count(item1) >= lst.count(item2):\n",
    "    return item1\n",
    "  else:\n",
    "    return item2\n",
    "print(more_frequent_item([2, 3, 3, 2, 3, 2, 3, 2, 3], 2, 3))"
   ]
  },
  {
   "cell_type": "code",
   "execution_count": null,
   "metadata": {},
   "outputs": [],
   "source": []
  }
 ],
 "metadata": {
  "kernelspec": {
   "display_name": "Python 3",
   "language": "python",
   "name": "python3"
  },
  "language_info": {
   "codemirror_mode": {
    "name": "ipython",
    "version": 3
   },
   "file_extension": ".py",
   "mimetype": "text/x-python",
   "name": "python",
   "nbconvert_exporter": "python",
   "pygments_lexer": "ipython3",
   "version": "3.10.4 (tags/v3.10.4:9d38120, Mar 23 2022, 23:13:41) [MSC v.1929 64 bit (AMD64)]"
  },
  "vscode": {
   "interpreter": {
    "hash": "63963b3f4c440940f0b94a3100916033a226cb4f45979123153792d60aa56d6a"
   }
  }
 },
 "nbformat": 4,
 "nbformat_minor": 4
}
