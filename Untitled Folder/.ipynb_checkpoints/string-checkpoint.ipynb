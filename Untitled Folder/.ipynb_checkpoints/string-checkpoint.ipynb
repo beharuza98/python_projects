{
 "cells": [
  {
   "cell_type": "markdown",
   "metadata": {},
   "source": [
    "Write a new function called get_length() that takes a string as an input and returns the number of characters in that string."
   ]
  },
  {
   "cell_type": "code",
   "execution_count": 2,
   "metadata": {},
   "outputs": [
    {
     "data": {
      "text/plain": [
       "3"
      ]
     },
     "execution_count": 2,
     "metadata": {},
     "output_type": "execute_result"
    }
   ],
   "source": [
    "def get_length(string):\n",
    "  count=0\n",
    "  for word in string:\n",
    "    count+=1\n",
    "  return count\n",
    "get_length(\"cat\")"
   ]
  },
  {
   "cell_type": "markdown",
   "metadata": {},
   "source": [
    "Write a function called letter_check that takes two inputs, word and letter.\n",
    "\n",
    "This function should return True if the word contains the letter and False if it does not."
   ]
  },
  {
   "cell_type": "code",
   "execution_count": 3,
   "metadata": {},
   "outputs": [],
   "source": [
    "def letter_check(word,letter):\n",
    "  if letter in word:\n",
    "    return True\n",
    "  else:\n",
    "    return False"
   ]
  },
  {
   "cell_type": "markdown",
   "metadata": {},
   "source": [
    "Write a function called common_letters that takes two arguments, string_one and string_two and then returns a list with all of the letters they have in common."
   ]
  },
  {
   "cell_type": "code",
   "execution_count": 6,
   "metadata": {},
   "outputs": [
    {
     "data": {
      "text/plain": [
       "['a']"
      ]
     },
     "execution_count": 6,
     "metadata": {},
     "output_type": "execute_result"
    }
   ],
   "source": [
    "\n",
    "\n",
    "def common_letters(string_one, string_two):\n",
    "  common = []\n",
    "  for letter in string_one:\n",
    "    if (letter in string_two) and not (letter in common):\n",
    "      common.append(letter)\n",
    "  return common\n",
    "common_letters(\"banana\", \"cream\")"
   ]
  },
  {
   "cell_type": "code",
   "execution_count": 7,
   "metadata": {},
   "outputs": [
    {
     "name": "stdout",
     "output_type": "stream",
     "text": [
      "{'o', 'l'}\n"
     ]
    }
   ],
   "source": [
    "string1 = \"Hello\"\n",
    "string2 = \"World\"\n",
    "common_letters = set(string1).intersection(string2)\n",
    "print(common_letters)"
   ]
  },
  {
   "cell_type": "code",
   "execution_count": 1,
   "metadata": {},
   "outputs": [
    {
     "name": "stdout",
     "output_type": "stream",
     "text": [
      "{'l', 'o'}\n"
     ]
    }
   ],
   "source": [
    "string1 = \"Hello\"\n",
    "string2 = \"World\"\n",
    "common_letters = set(string1) & set(string2)\n",
    "print(common_letters)"
   ]
  },
  {
   "cell_type": "markdown",
   "metadata": {},
   "source": [
    "Now for the temporary password, they want the function to take the input user name and shift all of the letters by one to the right, so the last letter of the username ends up as the first letter and so forth. For example, if the username is AbeSimp, then the temporary password generated should be pAbeSim."
   ]
  },
  {
   "cell_type": "code",
   "execution_count": 14,
   "metadata": {},
   "outputs": [
    {
     "data": {
      "text/plain": [
       "'eappl'"
      ]
     },
     "execution_count": 14,
     "metadata": {},
     "output_type": "execute_result"
    }
   ],
   "source": [
    "def password_generator(user_name):\n",
    "    password = \"\"\n",
    "    for i in range(0, len(user_name)):\n",
    "        password += user_name[i-1]\n",
    "    return password\n",
    "password_generator(\"apple\")\n",
    "\n",
    "        "
   ]
  },
  {
   "cell_type": "code",
   "execution_count": 15,
   "metadata": {},
   "outputs": [
    {
     "name": "stdout",
     "output_type": "stream",
     "text": [
      "w\n",
      "t\n",
      "r\n",
      "e\n",
      "o\n"
     ]
    }
   ],
   "source": [
    "def print_some_characters(word):\n",
    "  for i in range(len(word)):\n",
    "    if i % 2 == 0:\n",
    "      print(word[i])\n",
    " \n",
    "print_some_characters(\"watermelon\")"
   ]
  },
  {
   "cell_type": "code",
   "execution_count": 2,
   "metadata": {},
   "outputs": [
    {
     "name": "stdout",
     "output_type": "stream",
     "text": [
      "All the complicated details\n",
      "of the attiring and\n",
      "the disattiring are completed!\n",
      "A liquid moon\n",
      "moves gently among\n",
      "the long branches.\n",
      "Thus having prepared their buds\n",
      "against a sure winter\n",
      "the wise trees\n",
      "stand sleeping in the cold.\n"
     ]
    }
   ],
   "source": [
    "winter_trees_lines = ['All the complicated details', 'of the attiring and', 'the disattiring are completed!', 'A liquid moon', 'moves gently among', 'the long branches.', 'Thus having prepared their buds', 'against a sure winter', 'the wise trees', 'stand sleeping in the cold.']\n",
    "\n",
    "winter_trees_full='\\n'.join(winter_trees_lines)\n",
    "print(winter_trees_full)"
   ]
  },
  {
   "cell_type": "markdown",
   "metadata": {},
   "source": [
    "They sent over another list containing all the lines to the Audre Lorde poem, Love, Maybe. They want you to join together all of the lines into a single string that can be used to display the poem again, but this time, you’ve noticed that the list contains a ton of unnecessary whitespace that doesn’t appear in the actual poem and join it"
   ]
  },
  {
   "cell_type": "code",
   "execution_count": 3,
   "metadata": {},
   "outputs": [
    {
     "name": "stdout",
     "output_type": "stream",
     "text": [
      "Always\n",
      "in the middle of our bloodiest battles\n",
      "you lay down your arms\n",
      "like flowering mines\n",
      "\n",
      "to conquer me home.\n"
     ]
    }
   ],
   "source": [
    "love_maybe_lines = ['Always    ', '     in the middle of our bloodiest battles  ', 'you lay down your arms', '           like flowering mines    ','\\n' ,'   to conquer me home.    ']\n",
    "\n",
    "\n",
    "love_maybe_lines_stripped = []\n",
    "\n",
    "for line in love_maybe_lines:\n",
    "  love_maybe_lines_stripped.append(line.strip())\n",
    "  \n",
    "love_maybe_full = '\\n'.join(love_maybe_lines_stripped)\n",
    "\n",
    "print(love_maybe_full)"
   ]
  },
  {
   "cell_type": "code",
   "execution_count": 4,
   "metadata": {},
   "outputs": [
    {
     "name": "stdout",
     "output_type": "stream",
     "text": [
      "You_got_the_kind_of_loving_that_can_be_so_smooth\n"
     ]
    }
   ],
   "source": [
    "with_spaces = \"You got the kind of loving that can be so smooth\"\n",
    "with_underscores = with_spaces.replace(' ', '_')\n",
    "print(with_underscores)"
   ]
  },
  {
   "cell_type": "code",
   "execution_count": 5,
   "metadata": {},
   "outputs": [
    {
     "name": "stdout",
     "output_type": "stream",
     "text": [
      "20\n"
     ]
    }
   ],
   "source": [
    "god_wills_it_line_one = \"The very earth will disown you\"\n",
    "\n",
    "disown_placement=god_wills_it_line_one.find('disown')\n",
    "print(disown_placement)"
   ]
  },
  {
   "cell_type": "markdown",
   "metadata": {},
   "source": [
    "Write a function called poem_title_card that takes two inputs: the first input should be title and the second poet. The function should use .format() to return the following string:\n",
    "\n",
    " The poem \"[TITLE]\" is written by [POET]."
   ]
  },
  {
   "cell_type": "code",
   "execution_count": 7,
   "metadata": {},
   "outputs": [
    {
     "data": {
      "text/plain": [
       "'The poem \"fgjdfb\" is written by wjra.'"
      ]
     },
     "execution_count": 7,
     "metadata": {},
     "output_type": "execute_result"
    }
   ],
   "source": [
    "def poem_title_card(title, poet):\n",
    "  poem_desc = \"The poem \\\"{}\\\" is written by {}.\".format(title, poet)\n",
    "  return poem_desc\n",
    "poem_title_card(\"fgjdfb\",\"wjra\")"
   ]
  },
  {
   "cell_type": "code",
   "execution_count": null,
   "metadata": {},
   "outputs": [],
   "source": []
  },
  {
   "cell_type": "code",
   "execution_count": null,
   "metadata": {},
   "outputs": [],
   "source": []
  }
 ],
 "metadata": {
  "kernelspec": {
   "display_name": "Python 3",
   "language": "python",
   "name": "python3"
  },
  "language_info": {
   "codemirror_mode": {
    "name": "ipython",
    "version": 3
   },
   "file_extension": ".py",
   "mimetype": "text/x-python",
   "name": "python",
   "nbconvert_exporter": "python",
   "pygments_lexer": "ipython3",
   "version": "3.7.6"
  },
  "vscode": {
   "interpreter": {
    "hash": "63963b3f4c440940f0b94a3100916033a226cb4f45979123153792d60aa56d6a"
   }
  }
 },
 "nbformat": 4,
 "nbformat_minor": 4
}
