{
 "cells": [
  {
   "cell_type": "markdown",
   "metadata": {},
   "source": [
    "Our travel application users want to calculate the total expenses they may have to incur on a trip."
   ]
  },
  {
   "cell_type": "code",
   "execution_count": 3,
   "metadata": {},
   "outputs": [
    {
     "name": "stdout",
     "output_type": "stream",
     "text": [
      "The total expense: 1190\n"
     ]
    }
   ],
   "source": [
    "def calculate_expenses(plane_ticket_price,\n",
    "car_rental_rate,hotel_rate,trip_time):\n",
    "  car_rental_total = car_rental_rate*trip_time\n",
    "  hotel_total=hotel_rate*trip_time - 10\n",
    "  print(\"The total expense: \"+ str(car_rental_total+ hotel_total+ plane_ticket_price))\n",
    "calculate_expenses(200,100,100,5)\n"
   ]
  },
  {
   "cell_type": "markdown",
   "metadata": {},
   "source": [
    "Help travellers track their starting budget and let them know how much they have left after an expense."
   ]
  },
  {
   "cell_type": "code",
   "execution_count": 4,
   "metadata": {},
   "outputs": [
    {
     "name": "stdout",
     "output_type": "stream",
     "text": [
      "Your remaining budget is: $3500.75\n",
      "Your remaining budget is: $3491.75\n"
     ]
    }
   ],
   "source": [
    "current_budget = 3500.75\n",
    "\n",
    "def print_remaining_budget(budget):\n",
    "  print(\"Your remaining budget is: $\" + str(budget))\n",
    "\n",
    "print_remaining_budget(current_budget)\n",
    "\n",
    "def deduct_expense(budget,expense):\n",
    "  return budget-expense\n",
    "shirt_expense =9\n",
    "new_budget_after_shirt=deduct_expense(current_budget ,shirt_expense ) \n",
    "print_remaining_budget(new_budget_after_shirt )"
   ]
  },
  {
   "cell_type": "code",
   "execution_count": null,
   "metadata": {},
   "outputs": [],
   "source": []
  }
 ],
 "metadata": {
  "kernelspec": {
   "display_name": "Python 3",
   "language": "python",
   "name": "python3"
  },
  "language_info": {
   "codemirror_mode": {
    "name": "ipython",
    "version": 3
   },
   "file_extension": ".py",
   "mimetype": "text/x-python",
   "name": "python",
   "nbconvert_exporter": "python",
   "pygments_lexer": "ipython3",
   "version": "3.7.6"
  }
 },
 "nbformat": 4,
 "nbformat_minor": 4
}
