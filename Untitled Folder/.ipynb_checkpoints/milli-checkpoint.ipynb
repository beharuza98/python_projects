{
 "cells": [
  {
   "cell_type": "code",
   "execution_count": 2,
   "metadata": {},
   "outputs": [
    {
     "name": "stdout",
     "output_type": "stream",
     "text": [
      "For ordering his favorite beverages on demand, LBJ had four buttons installed in the Oval Office labeled 'Coffee', 'Tea', 'Coke', and what?\n",
      "\n",
      "A. Fresca\n",
      "B. V8\n",
      "C. Yoo-hoo\n",
      "D. A&W\n",
      "\n",
      "Nope, sorry!\n"
     ]
    }
   ],
   "source": [
    "# Who Wants To Be A Millionaire 💰question and four options. If the answer is an uppercase or lowercase “A”, then the score goes up.\n",
    "\n",
    "score = 0\n",
    "\n",
    "option1 = 'Fresca'\n",
    "option2 = 'V8'\n",
    "option3 = 'Yoo-hoo'\n",
    "option4 = 'A&W'\n",
    "  \n",
    "print(\"For ordering his favorite beverages on demand, LBJ had four buttons installed in the Oval Office labeled 'Coffee', 'Tea', 'Coke', and what?\\n\")\n",
    "\n",
    "print(\"A.\", option1)\n",
    "print(\"B.\", option2)\n",
    "print(\"C.\", option3)\n",
    "print(\"D.\", option4)\n",
    "  \n",
    "answer = 'b'\n",
    "\n",
    "if answer == 'A' or answer == 'a': \n",
    "  score += 100\n",
    "  print(\"\\nCorrect!\")\n",
    "else:\n",
    "  print(\"\\nNope, sorry!\")"
   ]
  },
  {
   "cell_type": "code",
   "execution_count": null,
   "metadata": {},
   "outputs": [],
   "source": []
  }
 ],
 "metadata": {
  "kernelspec": {
   "display_name": "Python 3",
   "language": "python",
   "name": "python3"
  },
  "language_info": {
   "codemirror_mode": {
    "name": "ipython",
    "version": 3
   },
   "file_extension": ".py",
   "mimetype": "text/x-python",
   "name": "python",
   "nbconvert_exporter": "python",
   "pygments_lexer": "ipython3",
   "version": "3.7.6"
  }
 },
 "nbformat": 4,
 "nbformat_minor": 4
}
