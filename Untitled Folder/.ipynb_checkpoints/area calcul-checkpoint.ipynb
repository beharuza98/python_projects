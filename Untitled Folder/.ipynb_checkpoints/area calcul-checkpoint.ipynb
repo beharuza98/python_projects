{
 "cells": [
  {
   "cell_type": "code",
   "execution_count": 1,
   "metadata": {},
   "outputs": [
    {
     "name": "stdout",
     "output_type": "stream",
     "text": [
      "The triangle area is 300.0\n",
      "The rectangle area is 24\n",
      "The circle area is 4071.5040790523717\n"
     ]
    }
   ],
   "source": [
    "# Area Calculator 📏\n",
    "\n",
    "import math\n",
    "\n",
    "base = 20\n",
    "height = 30\n",
    "area = base * height / 2\n",
    "\n",
    "print(\"The triangle area is\", area)\n",
    "\n",
    "length = 2\n",
    "width = 12\n",
    "area = length * width\n",
    "\n",
    "print(\"The rectangle area is\", area )\n",
    "    \n",
    "radius = 36\n",
    "area = math.pi * radius * radius\n",
    "    \n",
    "print(\"The circle area is\", area)"
   ]
  },
  {
   "cell_type": "code",
   "execution_count": null,
   "metadata": {},
   "outputs": [],
   "source": []
  }
 ],
 "metadata": {
  "kernelspec": {
   "display_name": "Python 3",
   "language": "python",
   "name": "python3"
  },
  "language_info": {
   "codemirror_mode": {
    "name": "ipython",
    "version": 3
   },
   "file_extension": ".py",
   "mimetype": "text/x-python",
   "name": "python",
   "nbconvert_exporter": "python",
   "pygments_lexer": "ipython3",
   "version": "3.7.6"
  }
 },
 "nbformat": 4,
 "nbformat_minor": 4
}
