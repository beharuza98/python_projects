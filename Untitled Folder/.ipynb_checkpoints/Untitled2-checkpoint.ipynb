{
 "cells": [
  {
   "cell_type": "markdown",
   "metadata": {},
   "source": [
    "## Dictionary"
   ]
  },
  {
   "cell_type": "markdown",
   "metadata": {},
   "source": [
    "dict comprehension"
   ]
  },
  {
   "cell_type": "code",
   "execution_count": 1,
   "metadata": {},
   "outputs": [
    {
     "name": "stdout",
     "output_type": "stream",
     "text": [
      "{'espresso': 64, 'chai': 40, 'decaf': 0, 'drip': 120}\n"
     ]
    }
   ],
   "source": [
    "drinks = [\"espresso\", \"chai\", \"decaf\", \"drip\"]\n",
    "caffeine = [64, 40, 0, 120]\n",
    "zipped_drinks =zip(drinks,caffeine)\n",
    "# print(zipped_drinks)\n",
    "# lst=list(zipped_drinks)\n",
    "# print(lst)\n",
    "drinks_to_caffeine ={key:value for key,value in zipped_drinks}\n",
    "print(drinks_to_caffeine)\n"
   ]
  },
  {
   "cell_type": "code",
   "execution_count": 3,
   "metadata": {},
   "outputs": [
    {
     "name": "stdout",
     "output_type": "stream",
     "text": [
      "{'Like a Rolling Stone': 78, 'Satisfaction': 29, 'Imagine': 44, \"What's Going On\": 21, 'Respect': 89, 'Good Vibrations': 5}\n"
     ]
    }
   ],
   "source": [
    "songs = [\"Like a Rolling Stone\", \"Satisfaction\", \"Imagine\", \"What's Going On\", \"Respect\", \"Good Vibrations\"]\n",
    "playcounts = [78, 29, 44, 21, 89, 5]\n",
    "plays={song:playcount for [song, playcount]in zip(songs, playcounts)}\n",
    "print(plays)"
   ]
  },
  {
   "cell_type": "code",
   "execution_count": 2,
   "metadata": {},
   "outputs": [
    {
     "name": "stdout",
     "output_type": "stream",
     "text": [
      "{'Like a Rolling Stone': 78, 'Satisfaction': 29, 'Imagine': 44, \"What's Going On\": 21, 'Respect': 89, 'Good Vibrations': 5}\n"
     ]
    }
   ],
   "source": [
    "songs = [\"Like a Rolling Stone\", \"Satisfaction\", \"Imagine\", \"What's Going On\", \"Respect\", \"Good Vibrations\"]\n",
    "playcounts = [78, 29, 44, 21, 89, 5]\n",
    "plays={song:playcount for song, playcount in zip(songs, playcounts)}\n",
    "print(plays)"
   ]
  },
  {
   "cell_type": "code",
   "execution_count": null,
   "metadata": {},
   "outputs": [],
   "source": []
  }
 ],
 "metadata": {
  "kernelspec": {
   "display_name": "Python 3",
   "language": "python",
   "name": "python3"
  },
  "language_info": {
   "codemirror_mode": {
    "name": "ipython",
    "version": 3
   },
   "file_extension": ".py",
   "mimetype": "text/x-python",
   "name": "python",
   "nbconvert_exporter": "python",
   "pygments_lexer": "ipython3",
   "version": "3.7.6"
  }
 },
 "nbformat": 4,
 "nbformat_minor": 4
}
