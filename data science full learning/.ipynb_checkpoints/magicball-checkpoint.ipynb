{
 "cells": [
  {
   "cell_type": "markdown",
   "metadata": {},
   "source": [
    "The Magic 8-Ball is a popular toy developed in the 1950s for fortune-telling or advice seeking.\n"
   ]
  },
  {
   "cell_type": "code",
   "execution_count": 1,
   "metadata": {},
   "outputs": [
    {
     "name": "stdout",
     "output_type": "stream",
     "text": [
      "alex asks: Will I win the lottery?\n",
      "Magic 8-Ball's answer: Reply hazy, try again.\n"
     ]
    }
   ],
   "source": [
    "name=\"alex\"\n",
    "question=\"Will I win the lottery?\"\n",
    "answer= \"\"\n",
    "import random\n",
    "random_number=random.randint(1,9)\n",
    "#print(random_number)\n",
    "if random_number==1:\n",
    "  answer=\"Yes definitely.\"\n",
    "elif random_number==2:\n",
    "  answer=\"It is decidedly so.\"\n",
    "elif random_number==3:\n",
    "  answer=\"Without a doubt.\"\n",
    "elif random_number==4:\n",
    "  answer=\"Reply hazy, try again.\"\n",
    "elif random_number==5:\n",
    "  answer=\"Ask again later.\"\n",
    "elif random_number==6:\n",
    "  answer=\"Better not tell you now.\"\n",
    "elif random_number==7:\n",
    "  answer=\"My sources say no.\"\n",
    "elif random_number==8:\n",
    "  answer=\"Outlook not so good.\"\n",
    "elif random_number==9:\n",
    "  answer=\"Very doubtful.\"\n",
    "else:\n",
    "  answer=\"Error\"\n",
    "print(name + \" asks: \" + question)\n",
    "print(\"Magic 8-Ball's answer: \" + answer)\n"
   ]
  },
  {
   "cell_type": "code",
   "execution_count": null,
   "metadata": {},
   "outputs": [],
   "source": []
  },
  {
   "cell_type": "code",
   "execution_count": null,
   "metadata": {},
   "outputs": [],
   "source": []
  }
 ],
 "metadata": {
  "kernelspec": {
   "display_name": "Python 3",
   "language": "python",
   "name": "python3"
  },
  "language_info": {
   "codemirror_mode": {
    "name": "ipython",
    "version": 3
   },
   "file_extension": ".py",
   "mimetype": "text/x-python",
   "name": "python",
   "nbconvert_exporter": "python",
   "pygments_lexer": "ipython3",
   "version": "3.7.6"
  }
 },
 "nbformat": 4,
 "nbformat_minor": 4
}
