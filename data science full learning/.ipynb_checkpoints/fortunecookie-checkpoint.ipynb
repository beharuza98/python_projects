{
 "cells": [
  {
   "cell_type": "code",
   "execution_count": 1,
   "metadata": {},
   "outputs": [
    {
     "name": "stdout",
     "output_type": "stream",
     "text": [
      "The fortune you seek is in another cookie\n"
     ]
    }
   ],
   "source": [
    "# Fortune Cookie Program 🥠\n",
    "\n",
    "import random\n",
    "\n",
    "fortune = random.randint(0, 4)\n",
    "\n",
    "if fortune == 0:\n",
    "  print(\"May you one day be carbon neutral\")\n",
    "elif fortune == 1:  \n",
    "  print(\"You have rice in your teeth\")\n",
    "elif fortune == 2:\n",
    "  print(\"No snowflake feels responsible for an avalanche\")\n",
    "elif fortune == 3:\n",
    "  print(\"You can only connect the dots looking backwards\")\n",
    "elif fortune == 4:\n",
    "  print(\"The fortune you seek is in another cookie\")"
   ]
  },
  {
   "cell_type": "code",
   "execution_count": null,
   "metadata": {},
   "outputs": [],
   "source": []
  }
 ],
 "metadata": {
  "kernelspec": {
   "display_name": "Python 3",
   "language": "python",
   "name": "python3"
  },
  "language_info": {
   "codemirror_mode": {
    "name": "ipython",
    "version": 3
   },
   "file_extension": ".py",
   "mimetype": "text/x-python",
   "name": "python",
   "nbconvert_exporter": "python",
   "pygments_lexer": "ipython3",
   "version": "3.7.6"
  }
 },
 "nbformat": 4,
 "nbformat_minor": 4
}
