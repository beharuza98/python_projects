{
 "cells": [
  {
   "cell_type": "code",
   "execution_count": 1,
   "metadata": {},
   "outputs": [
    {
     "name": "stdout",
     "output_type": "stream",
     "text": [
      "{'A': 1, 'B': 3, 'C': 3, 'D': 2, 'E': 1, 'F': 4, 'G': 2, 'H': 4, 'I': 1, 'J': 8, 'K': 5, 'L': 1, 'M': 3, 'N': 4, 'O': 1, 'P': 3, 'Q': 10, 'R': 1, 'S': 1, 'T': 1, 'U': 1, 'V': 4, 'W': 4, 'X': 8, 'Y': 4, 'Z': 10}\n",
      "15\n",
      "{'player1': 29, 'wordNerd': 32, 'Lexi Con': 31, 'Prof Reader': 31}\n"
     ]
    }
   ],
   "source": [
    "letters = [\"A\", \"B\", \"C\", \"D\", \"E\", \"F\", \"G\", \"H\", \"I\", \"J\", \"K\", \"L\", \"M\", \"N\", \"O\", \"P\", \"Q\", \"R\", \"S\", \"T\", \"U\", \"V\", \"W\", \"X\", \"Y\", \"Z\"]\n",
    "points = [1, 3, 3, 2, 1, 4, 2, 4, 1, 8, 5, 1, 3, 4, 1, 3, 10, 1, 1, 1, 1, 4, 4, 8, 4, 10]\n",
    "# Build your Point Dictionary\n",
    "letter_to_points ={letters:points for letters,points in zip(letters,points)}\n",
    "print(letter_to_points)\n",
    "letter_to_points[\" \"]=0\n",
    "\n",
    "# Score a Word\n",
    "def score_word(word):\n",
    "    point_total = 0\n",
    "    for letter in word:\n",
    "        if letter in letter_to_points:\n",
    "            point_total += letter_to_points[letter]\n",
    "        else:\n",
    "            point_total += 0\n",
    "    return point_total\n",
    "brownie_points=score_word(\"BROWNIE\")\n",
    "print(brownie_points)\n",
    "#Score a Game\n",
    "player_to_words ={\"player1\": [\"BLUE\", \"TENNIS\", \"EXIT\"], \"wordNerd\": [\"EARTH\", \"EYES\", \"MACHINE\"], \"Lexi Con\": [\"ERASER\", \"BELLY\", \"HUSKY\"], \"Prof Reader\": [\"ZAP\", \"COMA\", \"PERIOD\"]}\n",
    "player_to_points={}\n",
    "for player,words in player_to_words.items():\n",
    "  player_points =0\n",
    "  for word in words:\n",
    "    player_points+=score_word(word)\n",
    "    player_to_points[player]=player_points\n",
    "print(player_to_points)\n",
    "\n",
    "\n",
    "\n",
    "\n",
    "\n",
    "\n",
    "\n",
    "\n"
   ]
  },
  {
   "cell_type": "markdown",
   "metadata": {},
   "source": [
    "play_word() — a function that would take in a player and a word, and add that word to the list of words they’ve played\n",
    "update_point_totals() — turn your nested loops into a function that you can call any time a word is played\n",
    "make your letter_to_points dictionary able to handle lowercase inputs as well"
   ]
  },
  {
   "cell_type": "code",
   "execution_count": null,
   "metadata": {},
   "outputs": [],
   "source": [
    "def play_word(player, word):\n",
    "    player[\"words_played\"].append(word)\n",
    "\n",
    "def update_point_totals():\n",
    "    for player in players:\n",
    "        player[\"point_total\"] = score_words(player[\"words_played\"])\n",
    "\n",
    "letter_to_points = {\"a\": 1, \"b\": 3, \"c\": 3, \"d\": 2, \"e\": 1, \"f\": 4, \"g\": 2, \"h\": 4, \"i\": 1, \"j\": 8, \"k\": 5, \"l\": 1, \"m\": 3, \"n\": 1, \"o\": 1, \"p\": 3, \"q\": 10, \"r\": 1, \"s\": 1, \"t\": 1, \"u\": 1, \"v\": 4, \"w\": 4, \"x\": 8, \"y\": 4, \"z\": 10}\n",
    "\n",
    "def score_word(word):\n",
    "    word = word.lower()\n",
    "    point_total = 0\n",
    "    for letter in word:\n",
    "        if letter in letter_to_points:\n",
    "            point_total += letter_to_points[letter]\n",
    "    return point_total\n",
    "\n",
    "def score_words(words):\n",
    "    total_score = 0\n",
    "    for word in words:\n",
    "        total_score += score_word(word)\n",
    "    return total_score\n"
   ]
  }
 ],
 "metadata": {
  "kernelspec": {
   "display_name": "Python 3",
   "language": "python",
   "name": "python3"
  },
  "language_info": {
   "codemirror_mode": {
    "name": "ipython",
    "version": 3
   },
   "file_extension": ".py",
   "mimetype": "text/x-python",
   "name": "python",
   "nbconvert_exporter": "python",
   "pygments_lexer": "ipython3",
   "version": "3.7.6"
  }
 },
 "nbformat": 4,
 "nbformat_minor": 4
}
