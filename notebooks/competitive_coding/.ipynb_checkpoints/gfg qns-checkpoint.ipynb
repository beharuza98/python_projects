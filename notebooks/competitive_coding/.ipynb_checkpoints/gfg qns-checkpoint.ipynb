{
 "cells": [
  {
   "cell_type": "markdown",
   "metadata": {},
   "source": [
    "Print numbers from 1 to N without the help of loop"
   ]
  },
  {
   "cell_type": "code",
   "execution_count": 11,
   "metadata": {},
   "outputs": [
    {
     "name": "stdout",
     "output_type": "stream",
     "text": [
      "1 2 3 4 5 6 7 8 9 10\n"
     ]
    }
   ],
   "source": [
    "def print_ns(N):\n",
    "    return(range(1,N+1))\n",
    "print(*print_ns(10))"
   ]
  },
  {
   "cell_type": "code",
   "execution_count": 9,
   "metadata": {},
   "outputs": [
    {
     "name": "stdout",
     "output_type": "stream",
     "text": [
      "1 2 3 4 5 6 7 8 9 10\n"
     ]
    }
   ],
   "source": [
    "N = 10\n",
    "print(*range(1, N+1))"
   ]
  },
  {
   "cell_type": "markdown",
   "metadata": {},
   "source": [
    "## palindrome"
   ]
  },
  {
   "cell_type": "code",
   "execution_count": 35,
   "metadata": {},
   "outputs": [
    {
     "name": "stdout",
     "output_type": "stream",
     "text": [
      "5"
     ]
    }
   ],
   "source": [
    "strings = []\n",
    "arr=[111, 222, 333, 444, 555]\n",
    "for num in arr:\n",
    "    strings.append(str(num))\n",
    "count=0\n",
    "for word in strings:\n",
    "   if word==word[::-1]:\n",
    "    count+=1\n",
    "# print(count,end=\"\")\n",
    "   else:\n",
    "    print(0)\n",
    "print(count,end=\"\")        \n",
    "    "
   ]
  },
  {
   "cell_type": "markdown",
   "metadata": {},
   "source": [
    "Given a Integer array A[] of n elements. Your task is to complete the function PalinArray. Which will return 1 if all the elements of the Array are palindrome otherwise it will return 0."
   ]
  },
  {
   "cell_type": "code",
   "execution_count": 34,
   "metadata": {},
   "outputs": [
    {
     "data": {
      "text/plain": [
       "0"
      ]
     },
     "execution_count": 34,
     "metadata": {},
     "output_type": "execute_result"
    }
   ],
   "source": [
    "def PalinArray(A,n):\n",
    "    for num in A:\n",
    "        if str(num) !=str(num)[::-1]:  # check if the string representation of num is a palindrome\n",
    "            return 0\n",
    "        else:\n",
    "            \n",
    "            return 1\n",
    "PalinArray([121, 131, 20],3)"
   ]
  },
  {
   "cell_type": "code",
   "execution_count": 31,
   "metadata": {},
   "outputs": [
    {
     "data": {
      "text/plain": [
       "False"
      ]
     },
     "execution_count": 31,
     "metadata": {},
     "output_type": "execute_result"
    }
   ],
   "source": [
    "def PalinArray(arr ,n):\n",
    "    # Code here\n",
    "    for i in arr:\n",
    "        if str(i)!=str(i)[::-1]:\n",
    "            return False\n",
    "    return True\n",
    "PalinArray([121, 131, 20],3)"
   ]
  },
  {
   "cell_type": "markdown",
   "metadata": {},
   "source": [
    "Write a Python function to check if a string is a palindrome."
   ]
  },
  {
   "cell_type": "code",
   "execution_count": null,
   "metadata": {},
   "outputs": [],
   "source": [
    "def is_palindrome(s):\n",
    "    return s == s[::-1]"
   ]
  },
  {
   "cell_type": "markdown",
   "metadata": {},
   "source": [
    "Write a Python function to check if a number is a palindrome."
   ]
  },
  {
   "cell_type": "code",
   "execution_count": null,
   "metadata": {},
   "outputs": [],
   "source": [
    "def is_palindrome(n):\n",
    "    return str(n) == str(n)[::-1]"
   ]
  },
  {
   "cell_type": "markdown",
   "metadata": {},
   "source": [
    "Given an array arr[] of N integers, calculate the median"
   ]
  },
  {
   "cell_type": "code",
   "execution_count": null,
   "metadata": {},
   "outputs": [],
   "source": [
    "def find_median(v):\n",
    "    arr = sorted(v)\n",
    "    n = len(arr)\n",
    "    if n % 2 == 0:\n",
    "        # If the array has even length, calculate the average of the two middle elements\n",
    "        median_index1 = n // 2\n",
    "        median_index2 = median_index1 - 1\n",
    "        median = int((arr[median_index1] + arr[median_index2]) / 2)\n",
    "    else:\n",
    "        # If the array has odd length, the median is the middle element\n",
    "        median_index = n // 2\n",
    "        median =int(arr[median_index])\n",
    "    return median"
   ]
  },
  {
   "cell_type": "markdown",
   "metadata": {},
   "source": [
    "For a given 3 digit number, find whether it is armstrong number or not. An Armstrong number of three digits is an integer such that the sum of the cubes of its digits is equal to the number itself. Return \"Yes\" if it is a armstrong number else return \"No\".\n",
    "NOTE: 371 is an Armstrong number since 33 + 73 + 13 = 371"
   ]
  },
  {
   "cell_type": "code",
   "execution_count": 11,
   "metadata": {},
   "outputs": [
    {
     "name": "stdout",
     "output_type": "stream",
     "text": [
      "Yes\n"
     ]
    }
   ],
   "source": [
    "def armst_no(n):\n",
    "    num_str=str(n)\n",
    "    sum_cubes=0\n",
    "    for digit in num_str:\n",
    "        sum_cubes+=int(digit)**3\n",
    "    if sum_cubes==n:\n",
    "        return \"Yes\"\n",
    "    else:\n",
    "        return \"No\"\n",
    "print(armst_no(371))\n",
    "        \n",
    "        "
   ]
  },
  {
   "cell_type": "markdown",
   "metadata": {},
   "source": [
    "Given a non-empty sequence of characters str, return true if sequence is Binary, else return false"
   ]
  },
  {
   "cell_type": "code",
   "execution_count": 14,
   "metadata": {},
   "outputs": [
    {
     "name": "stdout",
     "output_type": "stream",
     "text": [
      "True\n"
     ]
    }
   ],
   "source": [
    "def is_binary(str):\n",
    "    for char in str:\n",
    "        if char != '0' and char != '1':\n",
    "            return False\n",
    "    return True\n",
    "print(is_binary('111100110101100'))"
   ]
  },
  {
   "cell_type": "code",
   "execution_count": null,
   "metadata": {},
   "outputs": [],
   "source": []
  },
  {
   "cell_type": "markdown",
   "metadata": {},
   "source": [
    "Given an sorted array A of size N. Find number of elements which are less than or equal to given element X."
   ]
  },
  {
   "cell_type": "code",
   "execution_count": null,
   "metadata": {},
   "outputs": [],
   "source": [
    "def countOfElements( a, n, x):\n",
    "    cnt = 0\n",
    "    for i in range(n):\n",
    "        if a[i] <= x:\n",
    "            cnt += 1\n",
    "    return cnt     "
   ]
  },
  {
   "cell_type": "code",
   "execution_count": 27,
   "metadata": {},
   "outputs": [
    {
     "name": "stdout",
     "output_type": "stream",
     "text": [
      "1\n",
      "2\n",
      "3\n"
     ]
    }
   ],
   "source": [
    " n={1,2,3}\n",
    "#     count=0\n",
    "for elm in n:\n",
    "    print(elm)"
   ]
  },
  {
   "cell_type": "code",
   "execution_count": null,
   "metadata": {},
   "outputs": [],
   "source": [
    "def countOfElements( a, n, x):\n",
    "    count=0\n",
    "    for elm in a:\n",
    "        if elm <=x:\n",
    "           count+=1\n",
    "    return(count)"
   ]
  },
  {
   "cell_type": "markdown",
   "metadata": {},
   "source": [
    "Given an array A of size N of integers. Your task is to find the sum of minimum and maximum element in the array."
   ]
  },
  {
   "cell_type": "code",
   "execution_count": null,
   "metadata": {},
   "outputs": [],
   "source": [
    "def findSum(self,A,N): \n",
    "        A.sort()\n",
    "        min=A[0]\n",
    "        max=a[-1]\n",
    "        min_max=min+max\n",
    "        return min_max\n"
   ]
  },
  {
   "cell_type": "markdown",
   "metadata": {},
   "source": [
    "Given a number N. Count the number of digits in N which evenly divides N."
   ]
  },
  {
   "cell_type": "code",
   "execution_count": null,
   "metadata": {},
   "outputs": [],
   "source": [
    "def evenlyDivides (self, N):\n",
    "        N_str=str(N)\n",
    "        count=0\n",
    "        for str_digit in N_str:\n",
    "            digit=int(str_digit)\n",
    "            if digit!=0 and N%digit ==0:\n",
    "                count+=1\n",
    "        return count"
   ]
  },
  {
   "cell_type": "markdown",
   "metadata": {},
   "source": [
    "Given an array Arr of size N, print all its elements."
   ]
  },
  {
   "cell_type": "code",
   "execution_count": null,
   "metadata": {},
   "outputs": [],
   "source": [
    "def printArray(self,arr, n):\n",
    "\t    for i in range(n):\n",
    "\t        print(arr[i],end=\" \")\n"
   ]
  },
  {
   "cell_type": "markdown",
   "metadata": {},
   "source": [
    "Given an array Arr of size N, swap the Kth element from beginning with Kth element from end."
   ]
  },
  {
   "cell_type": "code",
   "execution_count": null,
   "metadata": {},
   "outputs": [],
   "source": [
    "def swapKth(self,arr, n, k):\n",
    "\t    arr[k-1], arr[-k] = arr[-k], arr[k-1]"
   ]
  },
  {
   "cell_type": "markdown",
   "metadata": {},
   "source": [
    "Given N,  reverse the digits of N."
   ]
  },
  {
   "cell_type": "code",
   "execution_count": null,
   "metadata": {},
   "outputs": [],
   "source": [
    "def reverse_digit(self, n):\n",
    "\t\tn=str(n)\n",
    "        k=n[::-1]\n",
    "        return int(k)\n"
   ]
  }
 ],
 "metadata": {
  "kernelspec": {
   "display_name": "Python 3",
   "language": "python",
   "name": "python3"
  },
  "language_info": {
   "codemirror_mode": {
    "name": "ipython",
    "version": 3
   },
   "file_extension": ".py",
   "mimetype": "text/x-python",
   "name": "python",
   "nbconvert_exporter": "python",
   "pygments_lexer": "ipython3",
   "version": "3.7.6"
  }
 },
 "nbformat": 4,
 "nbformat_minor": 4
}
